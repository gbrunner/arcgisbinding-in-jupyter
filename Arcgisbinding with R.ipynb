{
 "cells": [
  {
   "cell_type": "markdown",
   "metadata": {},
   "source": [
    "# Try loading the arcgisbinding"
   ]
  },
  {
   "cell_type": "code",
   "execution_count": 1,
   "metadata": {},
   "outputs": [
    {
     "name": "stderr",
     "output_type": "stream",
     "text": [
      "*** Please call arc.check_product() to define a desktop license.\n"
     ]
    },
    {
     "data": {
      "text/html": [
       "<dl>\n",
       "\t<dt>$license</dt>\n",
       "\t\t<dd>'Advanced'</dd>\n",
       "\t<dt>$version</dt>\n",
       "\t\t<dd>'12.1.0.10257'</dd>\n",
       "\t<dt>$path</dt>\n",
       "\t\t<dd>'C:\\\\Program Files\\\\ArcGIS\\\\Pro\\\\'</dd>\n",
       "\t<dt>$dll</dt>\n",
       "\t\t<dd>'rarcproxy_pro'</dd>\n",
       "\t<dt>$app</dt>\n",
       "\t\t<dd>'ArcGIS Pro'</dd>\n",
       "\t<dt>$pkg_ver</dt>\n",
       "\t\t<dd>'1.0.1.208'</dd>\n",
       "</dl>\n"
      ],
      "text/latex": [
       "\\begin{description}\n",
       "\\item[\\$license] 'Advanced'\n",
       "\\item[\\$version] '12.1.0.10257'\n",
       "\\item[\\$path] 'C:\\textbackslash{}\\textbackslash{}Program Files\\textbackslash{}\\textbackslash{}ArcGIS\\textbackslash{}\\textbackslash{}Pro\\textbackslash{}\\textbackslash{}'\n",
       "\\item[\\$dll] 'rarcproxy\\_pro'\n",
       "\\item[\\$app] 'ArcGIS Pro'\n",
       "\\item[\\$pkg\\_ver] '1.0.1.208'\n",
       "\\end{description}\n"
      ],
      "text/markdown": [
       "$license\n",
       ":   'Advanced'\n",
       "$version\n",
       ":   '12.1.0.10257'\n",
       "$path\n",
       ":   'C:\\\\Program Files\\\\ArcGIS\\\\Pro\\\\'\n",
       "$dll\n",
       ":   'rarcproxy_pro'\n",
       "$app\n",
       ":   'ArcGIS Pro'\n",
       "$pkg_ver\n",
       ":   '1.0.1.208'\n",
       "\n",
       "\n"
      ],
      "text/plain": [
       "product: ArcGIS Pro ( 12.1.0.10257 )\n",
       "license: Advanced \n",
       "version: 1.0.1.208 "
      ]
     },
     "metadata": {},
     "output_type": "display_data"
    }
   ],
   "source": [
    "library(arcgisbinding)\n",
    "arc.check_product()"
   ]
  },
  {
   "cell_type": "code",
   "execution_count": 2,
   "metadata": {},
   "outputs": [],
   "source": [
    "input_data = \"C:/PROJECTS/R_BRIDGE/r-sample-tools-master/Seagrass.gdb/EMUs_Florida_Subset\"\n",
    "d <- arc.open(input_data)"
   ]
  },
  {
   "cell_type": "code",
   "execution_count": 3,
   "metadata": {},
   "outputs": [],
   "source": [
    "d_df_full <- arc.select(d)"
   ]
  },
  {
   "cell_type": "code",
   "execution_count": 4,
   "metadata": {},
   "outputs": [
    {
     "data": {
      "text/html": [
       "<table>\n",
       "<thead><tr><th scope=col>OBJECTID</th><th scope=col>OBJECTID_1</th><th scope=col>pointid</th><th scope=col>Seagrass</th><th scope=col>temp</th><th scope=col>salinity</th><th scope=col>nitrate</th><th scope=col>silicate_CalcField</th><th scope=col>phosphate_CalcField</th><th scope=col>dissO2_CalcField</th><th scope=col>EBK_nitrate</th><th scope=col>nitrate_CalcField</th></tr></thead>\n",
       "<tbody>\n",
       "\t<tr><td>1        </td><td>1        </td><td> 197276  </td><td>1        </td><td>23.40199 </td><td>34.96389 </td><td>NA       </td><td>4.706984 </td><td>0.1366675</td><td>5.065754 </td><td>0.3170178</td><td>0.3170178</td></tr>\n",
       "\t<tr><td>2        </td><td>2        </td><td> 198118  </td><td>1        </td><td>23.45050 </td><td>35.01641 </td><td>NA       </td><td>5.031047 </td><td>0.1335468</td><td>5.028101 </td><td>0.3680477</td><td>0.3680477</td></tr>\n",
       "\t<tr><td>3        </td><td>3        </td><td> 198960  </td><td>1        </td><td>23.47861 </td><td>35.09651 </td><td>NA       </td><td>5.072901 </td><td>0.1326572</td><td>5.017826 </td><td>0.3838250</td><td>0.3838250</td></tr>\n",
       "\t<tr><td>4        </td><td>4        </td><td>7555842  </td><td>1        </td><td>23.32539 </td><td>35.08290 </td><td>NA       </td><td>4.706984 </td><td>0.1366675</td><td>5.065754 </td><td>0.3170178</td><td>0.3170178</td></tr>\n",
       "\t<tr><td>5        </td><td>5        </td><td>7556684  </td><td>1        </td><td>23.35969 </td><td>35.09720 </td><td>NA       </td><td>5.031047 </td><td>0.1335468</td><td>5.028101 </td><td>0.3680477</td><td>0.3680477</td></tr>\n",
       "\t<tr><td>6        </td><td>6        </td><td>7557525  </td><td>1        </td><td>23.37109 </td><td>35.15391 </td><td>NA       </td><td>5.072901 </td><td>0.1326572</td><td>5.017826 </td><td>0.3838250</td><td>0.3838250</td></tr>\n",
       "</tbody>\n",
       "</table>\n"
      ],
      "text/latex": [
       "\\begin{tabular}{r|llllllllllll}\n",
       " OBJECTID & OBJECTID\\_1 & pointid & Seagrass & temp & salinity & nitrate & silicate\\_CalcField & phosphate\\_CalcField & dissO2\\_CalcField & EBK\\_nitrate & nitrate\\_CalcField\\\\\n",
       "\\hline\n",
       "\t 1         & 1         &  197276   & 1         & 23.40199  & 34.96389  & NA        & 4.706984  & 0.1366675 & 5.065754  & 0.3170178 & 0.3170178\\\\\n",
       "\t 2         & 2         &  198118   & 1         & 23.45050  & 35.01641  & NA        & 5.031047  & 0.1335468 & 5.028101  & 0.3680477 & 0.3680477\\\\\n",
       "\t 3         & 3         &  198960   & 1         & 23.47861  & 35.09651  & NA        & 5.072901  & 0.1326572 & 5.017826  & 0.3838250 & 0.3838250\\\\\n",
       "\t 4         & 4         & 7555842   & 1         & 23.32539  & 35.08290  & NA        & 4.706984  & 0.1366675 & 5.065754  & 0.3170178 & 0.3170178\\\\\n",
       "\t 5         & 5         & 7556684   & 1         & 23.35969  & 35.09720  & NA        & 5.031047  & 0.1335468 & 5.028101  & 0.3680477 & 0.3680477\\\\\n",
       "\t 6         & 6         & 7557525   & 1         & 23.37109  & 35.15391  & NA        & 5.072901  & 0.1326572 & 5.017826  & 0.3838250 & 0.3838250\\\\\n",
       "\\end{tabular}\n"
      ],
      "text/markdown": [
       "\n",
       "OBJECTID | OBJECTID_1 | pointid | Seagrass | temp | salinity | nitrate | silicate_CalcField | phosphate_CalcField | dissO2_CalcField | EBK_nitrate | nitrate_CalcField | \n",
       "|---|---|---|---|---|---|\n",
       "| 1         | 1         |  197276   | 1         | 23.40199  | 34.96389  | NA        | 4.706984  | 0.1366675 | 5.065754  | 0.3170178 | 0.3170178 | \n",
       "| 2         | 2         |  198118   | 1         | 23.45050  | 35.01641  | NA        | 5.031047  | 0.1335468 | 5.028101  | 0.3680477 | 0.3680477 | \n",
       "| 3         | 3         |  198960   | 1         | 23.47861  | 35.09651  | NA        | 5.072901  | 0.1326572 | 5.017826  | 0.3838250 | 0.3838250 | \n",
       "| 4         | 4         | 7555842   | 1         | 23.32539  | 35.08290  | NA        | 4.706984  | 0.1366675 | 5.065754  | 0.3170178 | 0.3170178 | \n",
       "| 5         | 5         | 7556684   | 1         | 23.35969  | 35.09720  | NA        | 5.031047  | 0.1335468 | 5.028101  | 0.3680477 | 0.3680477 | \n",
       "| 6         | 6         | 7557525   | 1         | 23.37109  | 35.15391  | NA        | 5.072901  | 0.1326572 | 5.017826  | 0.3838250 | 0.3838250 | \n",
       "\n",
       "\n"
      ],
      "text/plain": [
       "  OBJECTID OBJECTID_1 pointid Seagrass temp     salinity nitrate\n",
       "1 1        1           197276 1        23.40199 34.96389 NA     \n",
       "2 2        2           198118 1        23.45050 35.01641 NA     \n",
       "3 3        3           198960 1        23.47861 35.09651 NA     \n",
       "4 4        4          7555842 1        23.32539 35.08290 NA     \n",
       "5 5        5          7556684 1        23.35969 35.09720 NA     \n",
       "6 6        6          7557525 1        23.37109 35.15391 NA     \n",
       "  silicate_CalcField phosphate_CalcField dissO2_CalcField EBK_nitrate\n",
       "1 4.706984           0.1366675           5.065754         0.3170178  \n",
       "2 5.031047           0.1335468           5.028101         0.3680477  \n",
       "3 5.072901           0.1326572           5.017826         0.3838250  \n",
       "4 4.706984           0.1366675           5.065754         0.3170178  \n",
       "5 5.031047           0.1335468           5.028101         0.3680477  \n",
       "6 5.072901           0.1326572           5.017826         0.3838250  \n",
       "  nitrate_CalcField\n",
       "1 0.3170178        \n",
       "2 0.3680477        \n",
       "3 0.3838250        \n",
       "4 0.3170178        \n",
       "5 0.3680477        \n",
       "6 0.3838250        "
      ]
     },
     "metadata": {},
     "output_type": "display_data"
    }
   ],
   "source": [
    "head(d_df_full)"
   ]
  },
  {
   "cell_type": "code",
   "execution_count": 5,
   "metadata": {},
   "outputs": [
    {
     "data": {
      "text/html": [
       "<table>\n",
       "<thead><tr><th></th><th scope=col>OBJECTID</th><th scope=col>OBJECTID_1</th><th scope=col>pointid</th><th scope=col>Seagrass</th><th scope=col>temp</th><th scope=col>salinity</th><th scope=col>nitrate</th><th scope=col>silicate_CalcField</th><th scope=col>phosphate_CalcField</th><th scope=col>dissO2_CalcField</th><th scope=col>EBK_nitrate</th><th scope=col>nitrate_CalcField</th></tr></thead>\n",
       "<tbody>\n",
       "\t<tr><th scope=row>5567</th><td>5567      </td><td>5569      </td><td>21211016  </td><td>0         </td><td>27.73251  </td><td>36.10109  </td><td>       NA </td><td>3.990829  </td><td>0.13862170</td><td>4.493684  </td><td>2.1979926 </td><td>2.1979926 </td></tr>\n",
       "\t<tr><th scope=row>5568</th><td>5568      </td><td>5570      </td><td>21211017  </td><td>0         </td><td>26.76391  </td><td>36.30901  </td><td>       NA </td><td>1.956519  </td><td>0.05937159</td><td>4.563109  </td><td>0.9446583 </td><td>0.9446583 </td></tr>\n",
       "\t<tr><th scope=row>5569</th><td>5569      </td><td>5571      </td><td>21211018  </td><td>0         </td><td>26.83391  </td><td>36.33859  </td><td>       NA </td><td>2.048069  </td><td>0.06225080</td><td>4.568600  </td><td>0.9167514 </td><td>0.9167514 </td></tr>\n",
       "\t<tr><th scope=row>5570</th><td>5570      </td><td>5572      </td><td>21211019  </td><td>0         </td><td>26.88861  </td><td>36.35799  </td><td>       NA </td><td>2.215459  </td><td>0.06767644</td><td>4.583409  </td><td>0.8382264 </td><td>0.8382264 </td></tr>\n",
       "\t<tr><th scope=row>5571</th><td>5571      </td><td>5573      </td><td>21211020  </td><td>0         </td><td>26.92181  </td><td>36.37840  </td><td>       NA </td><td>2.457869  </td><td>0.07446024</td><td>4.609344  </td><td>0.7220694 </td><td>0.7220694 </td></tr>\n",
       "\t<tr><th scope=row>5572</th><td>5572      </td><td>5574      </td><td>21211021  </td><td>0         </td><td>26.94729  </td><td>36.38551  </td><td>0.5180613 </td><td>2.702261  </td><td>0.07475934</td><td>4.654354  </td><td>0.5777277 </td><td>0.5180613 </td></tr>\n",
       "</tbody>\n",
       "</table>\n"
      ],
      "text/latex": [
       "\\begin{tabular}{r|llllllllllll}\n",
       "  & OBJECTID & OBJECTID\\_1 & pointid & Seagrass & temp & salinity & nitrate & silicate\\_CalcField & phosphate\\_CalcField & dissO2\\_CalcField & EBK\\_nitrate & nitrate\\_CalcField\\\\\n",
       "\\hline\n",
       "\t5567 & 5567       & 5569       & 21211016   & 0          & 27.73251   & 36.10109   &        NA  & 3.990829   & 0.13862170 & 4.493684   & 2.1979926  & 2.1979926 \\\\\n",
       "\t5568 & 5568       & 5570       & 21211017   & 0          & 26.76391   & 36.30901   &        NA  & 1.956519   & 0.05937159 & 4.563109   & 0.9446583  & 0.9446583 \\\\\n",
       "\t5569 & 5569       & 5571       & 21211018   & 0          & 26.83391   & 36.33859   &        NA  & 2.048069   & 0.06225080 & 4.568600   & 0.9167514  & 0.9167514 \\\\\n",
       "\t5570 & 5570       & 5572       & 21211019   & 0          & 26.88861   & 36.35799   &        NA  & 2.215459   & 0.06767644 & 4.583409   & 0.8382264  & 0.8382264 \\\\\n",
       "\t5571 & 5571       & 5573       & 21211020   & 0          & 26.92181   & 36.37840   &        NA  & 2.457869   & 0.07446024 & 4.609344   & 0.7220694  & 0.7220694 \\\\\n",
       "\t5572 & 5572       & 5574       & 21211021   & 0          & 26.94729   & 36.38551   & 0.5180613  & 2.702261   & 0.07475934 & 4.654354   & 0.5777277  & 0.5180613 \\\\\n",
       "\\end{tabular}\n"
      ],
      "text/markdown": [
       "\n",
       "| <!--/--> | OBJECTID | OBJECTID_1 | pointid | Seagrass | temp | salinity | nitrate | silicate_CalcField | phosphate_CalcField | dissO2_CalcField | EBK_nitrate | nitrate_CalcField | \n",
       "|---|---|---|---|---|---|\n",
       "| 5567 | 5567       | 5569       | 21211016   | 0          | 27.73251   | 36.10109   |        NA  | 3.990829   | 0.13862170 | 4.493684   | 2.1979926  | 2.1979926  | \n",
       "| 5568 | 5568       | 5570       | 21211017   | 0          | 26.76391   | 36.30901   |        NA  | 1.956519   | 0.05937159 | 4.563109   | 0.9446583  | 0.9446583  | \n",
       "| 5569 | 5569       | 5571       | 21211018   | 0          | 26.83391   | 36.33859   |        NA  | 2.048069   | 0.06225080 | 4.568600   | 0.9167514  | 0.9167514  | \n",
       "| 5570 | 5570       | 5572       | 21211019   | 0          | 26.88861   | 36.35799   |        NA  | 2.215459   | 0.06767644 | 4.583409   | 0.8382264  | 0.8382264  | \n",
       "| 5571 | 5571       | 5573       | 21211020   | 0          | 26.92181   | 36.37840   |        NA  | 2.457869   | 0.07446024 | 4.609344   | 0.7220694  | 0.7220694  | \n",
       "| 5572 | 5572       | 5574       | 21211021   | 0          | 26.94729   | 36.38551   | 0.5180613  | 2.702261   | 0.07475934 | 4.654354   | 0.5777277  | 0.5180613  | \n",
       "\n",
       "\n"
      ],
      "text/plain": [
       "     OBJECTID OBJECTID_1 pointid  Seagrass temp     salinity nitrate  \n",
       "5567 5567     5569       21211016 0        27.73251 36.10109        NA\n",
       "5568 5568     5570       21211017 0        26.76391 36.30901        NA\n",
       "5569 5569     5571       21211018 0        26.83391 36.33859        NA\n",
       "5570 5570     5572       21211019 0        26.88861 36.35799        NA\n",
       "5571 5571     5573       21211020 0        26.92181 36.37840        NA\n",
       "5572 5572     5574       21211021 0        26.94729 36.38551 0.5180613\n",
       "     silicate_CalcField phosphate_CalcField dissO2_CalcField EBK_nitrate\n",
       "5567 3.990829           0.13862170          4.493684         2.1979926  \n",
       "5568 1.956519           0.05937159          4.563109         0.9446583  \n",
       "5569 2.048069           0.06225080          4.568600         0.9167514  \n",
       "5570 2.215459           0.06767644          4.583409         0.8382264  \n",
       "5571 2.457869           0.07446024          4.609344         0.7220694  \n",
       "5572 2.702261           0.07475934          4.654354         0.5777277  \n",
       "     nitrate_CalcField\n",
       "5567 2.1979926        \n",
       "5568 0.9446583        \n",
       "5569 0.9167514        \n",
       "5570 0.8382264        \n",
       "5571 0.7220694        \n",
       "5572 0.5180613        "
      ]
     },
     "metadata": {},
     "output_type": "display_data"
    }
   ],
   "source": [
    "tail(d_df_full)"
   ]
  },
  {
   "cell_type": "markdown",
   "metadata": {},
   "source": [
    "## It Worked!"
   ]
  },
  {
   "cell_type": "markdown",
   "metadata": {},
   "source": [
    "- clone env\n",
    "- deactivate env\n",
    "- activate cloned env\n",
    "- conda install -c r r-essentials\n",
    "https://www.datacamp.com/community/blog/jupyter-notebook-r"
   ]
  }
 ],
 "metadata": {
  "kernelspec": {
   "display_name": "R",
   "language": "R",
   "name": "ir"
  },
  "language_info": {
   "codemirror_mode": "r",
   "file_extension": ".r",
   "mimetype": "text/x-r-source",
   "name": "R",
   "pygments_lexer": "r",
   "version": "3.4.2"
  }
 },
 "nbformat": 4,
 "nbformat_minor": 2
}
